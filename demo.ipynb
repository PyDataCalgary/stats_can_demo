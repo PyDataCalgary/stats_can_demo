{
 "cells": [
  {
   "cell_type": "markdown",
   "metadata": {},
   "source": [
    "# Demo of basic use of the stats_can package\n",
    "\n",
    "This notebook is meant to provide an overview of the basic functionality of the stats_can package"
   ]
  },
  {
   "cell_type": "markdown",
   "metadata": {},
   "source": [
    "## Getting set up\n",
    "\n",
    "Most of the functionality you would want is available through the StatsCan class. You can import and instantiate it from the base of the stats_can package:"
   ]
  },
  {
   "cell_type": "code",
   "execution_count": null,
   "metadata": {},
   "outputs": [],
   "source": [
    "from stats_can import StatsCan\n",
    "sc = StatsCan()"
   ]
  },
  {
   "cell_type": "markdown",
   "metadata": {},
   "source": [
    "Note that by default the StatsCan object will store all data it retrieves in a file in your working directory. If you'd like it saved elsewhere you can provide that path as either a string or ```pathlib.Path``` as an argument at instantiation."
   ]
  },
  {
   "cell_type": "markdown",
   "metadata": {},
   "source": [
    "## Primary use case - loading a table\n",
    "\n",
    "The most common thing you'll want to do with this package is retrieve data from Statistics Canada. We can do that now, using [this table](https://www150.statcan.gc.ca/t1/tbl1/en/tv.action?pid=1410035301) measuring homeless shelter capacity as an example."
   ]
  },
  {
   "cell_type": "code",
   "execution_count": null,
   "metadata": {},
   "outputs": [],
   "source": [
    "shelter_df = sc.table_to_df(\"14-10-0353-01\")"
   ]
  },
  {
   "cell_type": "code",
   "execution_count": null,
   "metadata": {},
   "outputs": [],
   "source": [
    "shelter_df.head()"
   ]
  },
  {
   "cell_type": "code",
   "execution_count": null,
   "metadata": {},
   "outputs": [],
   "source": [
    "shelter_df.dtypes"
   ]
  },
  {
   "cell_type": "markdown",
   "metadata": {},
   "source": [
    "If the table has not been previously retrieved it will first download it, extract it, and load it into a dataframe. If it's been retrieved in the past it will load the previously processed table. From above you can see that the library parses dates to datetime columns and sets categorical columns as categorical variables."
   ]
  },
  {
   "cell_type": "markdown",
   "metadata": {},
   "source": [
    "## Updating existing tables\n",
    "\n",
    "If you've retrieved a table at an earlier point and an updated release is available, you can have the package update your local copy:"
   ]
  },
  {
   "cell_type": "code",
   "execution_count": null,
   "metadata": {},
   "outputs": [],
   "source": [
    "sc.update_tables()"
   ]
  },
  {
   "cell_type": "markdown",
   "metadata": {},
   "source": [
    "You can also provide a list of tables to the function if you only want to update a subset of them. In addition to updating the tables the function will return a list of all tables that were updated. In this case since I just downloaded the table prior to calling the update function it returns an empty list, since no tables were updated."
   ]
  },
  {
   "cell_type": "markdown",
   "metadata": {},
   "source": [
    "## Pulling in just one vector\n",
    "\n",
    "Tables are made up of many vectors, and if you only want a particular one for a particular period it would be pretty slow to have to download the entire table (which can be quite large)."
   ]
  },
  {
   "cell_type": "code",
   "execution_count": null,
   "metadata": {},
   "outputs": [],
   "source": [
    "sc.vectors_to_df_remote(\"v113743823\", periods=5)"
   ]
  },
  {
   "cell_type": "markdown",
   "metadata": {},
   "source": [
    "This method will always retrieve the latest data directly from Statistics Canada. The first argument is either a single vector or a list of vectors, and the second argument is the number of periods (months/years depending on the series) to retrieve."
   ]
  },
  {
   "cell_type": "code",
   "execution_count": null,
   "metadata": {},
   "outputs": [],
   "source": []
  }
 ],
 "metadata": {
  "kernelspec": {
   "display_name": "Python 3",
   "language": "python",
   "name": "python3"
  },
  "language_info": {
   "codemirror_mode": {
    "name": "ipython",
    "version": 3
   },
   "file_extension": ".py",
   "mimetype": "text/x-python",
   "name": "python",
   "nbconvert_exporter": "python",
   "pygments_lexer": "ipython3",
   "version": "3.9.1"
  }
 },
 "nbformat": 4,
 "nbformat_minor": 4
}
